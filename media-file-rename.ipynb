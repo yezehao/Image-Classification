{
 "cells": [
  {
   "attachments": {},
   "cell_type": "markdown",
   "metadata": {},
   "source": [
    "# The video rename\n",
    "The following code is used to rename the videos according to there modification time. For example, the modification time of a video is ``2023/07/16``, then the video would be renamed as ``230716.mp4``. If there are more than one videos that have same modification time, the name of the renamed videos would be ``230716(n).mp4``. The $n$ here represent the number of repetitions."
   ]
  },
  {
   "cell_type": "code",
   "execution_count": 34,
   "metadata": {},
   "outputs": [],
   "source": [
    "# Module Import\n",
    "import os\n",
    "import shutil\n",
    "import time\n",
    "\n",
    "# Specify the directory\n",
    "Input_dir = \"Input\"\n",
    "Output_dir = \"Output/video\"\n",
    "\n",
    "# Get all files and folders in the directory\n",
    "files = os.listdir(Input_dir)\n",
    "\n",
    "# The dictionary used to save the files in certain modification time\n",
    "modification_counts = {} \n",
    "\n",
    "# File Iteration\n",
    "for filename in files:\n",
    "    # Input file path defination\n",
    "    path_input = os.path.join(Input_dir, filename)\n",
    "    # Video File Selection\n",
    "    if os.path.isfile(path_input) and filename.lower().endswith(('.mp4')):\n",
    "        # Get the modification time\n",
    "        formatted_time = time.strftime(\n",
    "            \"%y%m%d\", time.localtime(os.path.getmtime(path_input)))\n",
    "\n",
    "        # Filename renamed        \n",
    "        if formatted_time not in modification_counts:\n",
    "            modification_counts[formatted_time] = 1\n",
    "        else:\n",
    "            modification_counts[formatted_time] += 1\n",
    "        if modification_counts[formatted_time] > 1:\n",
    "            new_filename = f\"{formatted_time}({modification_counts[formatted_time]}){os.path.splitext(filename)[1]}\"\n",
    "        else:\n",
    "            new_filename = f\"{formatted_time}{os.path.splitext(filename)[1]}\"\n",
    "\n",
    "        # Output file path defination\n",
    "        path_output = os.path.join(Output_dir, new_filename)\n",
    "\n",
    "        # Renamed File Migration\n",
    "        shutil.move(path_input, path_output)"
   ]
  },
  {
   "cell_type": "code",
   "execution_count": 39,
   "metadata": {},
   "outputs": [
    {
     "name": "stdout",
     "output_type": "stream",
     "text": [
      "+------------------+---------+\n",
      "|   Formatted Time |   Count |\n",
      "+==================+=========+\n",
      "|           230104 |       4 |\n",
      "+------------------+---------+\n",
      "|           230106 |       2 |\n",
      "+------------------+---------+\n"
     ]
    }
   ],
   "source": [
    "# Display the modification counts\n",
    "from tabulate import tabulate\n",
    "\n",
    "# convert modification_counts into table\n",
    "table = []\n",
    "for formatted_time, count in modification_counts.items():\n",
    "    table.append([formatted_time, count])\n",
    "\n",
    "# Table Display\n",
    "headers = [\"Formatted Time\", \"Count\"]\n",
    "print(tabulate(table, headers, tablefmt=\"grid\"))"
   ]
  },
  {
   "attachments": {},
   "cell_type": "markdown",
   "metadata": {},
   "source": [
    "# The image rename\n",
    "The following code is used to rename the images according to there modification time. For example, the modification time of a image is ``2023/07/16``, then the image would be renamed as ``230716.png``. If there are more than one images that have same modification time, the name of the renamed images would be ``230716(n).png``. The $n$ here represent the number of repetitions."
   ]
  },
  {
   "cell_type": "code",
   "execution_count": 36,
   "metadata": {},
   "outputs": [],
   "source": [
    "# Module Import\n",
    "import os\n",
    "import shutil\n",
    "import time\n",
    "\n",
    "# Specify the directory\n",
    "Input_dir = \"Input\"\n",
    "Output_dir = \"Output/image\"\n",
    "\n",
    "# Get all files and folders in the directory\n",
    "files = os.listdir(Input_dir)\n",
    "\n",
    "# The dictionary used to save the files in certain modification time\n",
    "modification_counts = {} \n",
    "\n",
    "# File Iteration\n",
    "for filename in files:\n",
    "    # Input file path defination\n",
    "    path_input = os.path.join(Input_dir, filename)\n",
    "    \n",
    "    # Video File Selection\n",
    "    if os.path.isfile(path_input) and filename.lower().endswith(('.png','.jpg')):\n",
    "        # Get the modification time\n",
    "        formatted_time = time.strftime(\n",
    "            \"%y%m%d\", time.localtime(os.path.getmtime(path_input)))\n",
    "\n",
    "        # Filename renamed        \n",
    "        if formatted_time not in modification_counts:\n",
    "            modification_counts[formatted_time] = 1\n",
    "        else:\n",
    "            modification_counts[formatted_time] += 1\n",
    "        if modification_counts[formatted_time] > 1:\n",
    "            new_filename = f\"{formatted_time}({modification_counts[formatted_time]}){os.path.splitext(filename)[1]}\"\n",
    "        else:\n",
    "            new_filename = f\"{formatted_time}{os.path.splitext(filename)[1]}\"\n",
    "\n",
    "        # Output file path defination\n",
    "        path_output = os.path.join(Output_dir, new_filename)\n",
    "\n",
    "        # Renamed File Migration\n",
    "        shutil.move(path_input, path_output)"
   ]
  },
  {
   "attachments": {},
   "cell_type": "markdown",
   "metadata": {},
   "source": [
    "# Image Formate Converter\n",
    "This programme is used to convert the images whose formats are ``.jpg`` into ``.png``"
   ]
  },
  {
   "cell_type": "code",
   "execution_count": 38,
   "metadata": {},
   "outputs": [],
   "source": [
    "# Module Import\n",
    "import os\n",
    "import cv2\n",
    "\n",
    "# Specify the directory\n",
    "Output_dir = \"Output/image\"\n",
    "files = os.listdir(Output_dir)\n",
    "\n",
    "# File Iteration\n",
    "for filename in files:\n",
    "    # Input file path defination\n",
    "    path_conv = os.path.join(Output_dir, filename)\n",
    "\n",
    "    # File Format Convertion\n",
    "    if os.path.isfile(path_conv) and filename.lower().endswith('.jpg'):\n",
    "        image = cv2.imread(path_conv) # read the jpg/jpeg image\n",
    "        path_new = os.path.splitext(path_conv)[0] + '.png'\n",
    "        cv2.imwrite(path_new, image) # save the image\n",
    "        os.remove(path_conv) # delet the image of .jpg version"
   ]
  },
  {
   "cell_type": "code",
   "execution_count": null,
   "metadata": {},
   "outputs": [],
   "source": [
    "# Display the modification counts\n",
    "from tabulate import tabulate\n",
    "\n",
    "# convert modification_counts into table\n",
    "table = []\n",
    "for formatted_time, count in modification_counts.items():\n",
    "    table.append([formatted_time, count])\n",
    "\n",
    "# Table Display\n",
    "headers = [\"Formatted Time\", \"Count\"]\n",
    "print(tabulate(table, headers, tablefmt=\"grid\"))"
   ]
  }
 ],
 "metadata": {
  "kernelspec": {
   "display_name": "picture-modify",
   "language": "python",
   "name": "python3"
  },
  "language_info": {
   "codemirror_mode": {
    "name": "ipython",
    "version": 3
   },
   "file_extension": ".py",
   "mimetype": "text/x-python",
   "name": "python",
   "nbconvert_exporter": "python",
   "pygments_lexer": "ipython3",
   "version": "3.9.16"
  },
  "orig_nbformat": 4,
  "vscode": {
   "interpreter": {
    "hash": "7ff53aeeb6c70ad5398bf5fe8cac0bd01518ff2496592591b6377a759afc74b7"
   }
  }
 },
 "nbformat": 4,
 "nbformat_minor": 2
}
